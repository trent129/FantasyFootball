{
  "cells": [
    {
      "cell_type": "markdown",
      "metadata": {
        "id": "view-in-github",
        "colab_type": "text"
      },
      "source": [
        "<a href=\"https://colab.research.google.com/github/trent129/FantasyFootball/blob/league-history/AllTime_H2H.ipynb\" target=\"_parent\"><img src=\"https://colab.research.google.com/assets/colab-badge.svg\" alt=\"Open In Colab\"/></a>"
      ]
    },
    {
      "cell_type": "code",
      "execution_count": null,
      "metadata": {
        "id": "AzYqzhaOFlJx"
      },
      "outputs": [],
      "source": [
        "from google.colab import auth\n",
        "auth.authenticate_user()\n",
        "import gspread\n",
        "from oauth2client.client import GoogleCredentials\n",
        "gc = gspread.authorize(GoogleCredentials.get_application_default())"
      ]
    },
    {
      "cell_type": "markdown",
      "metadata": {
        "id": "MkeGRu1gP3s-"
      },
      "source": [
        "League Information:\n",
        "\n",
        "16 teams every year except 2013 and 2014.\n",
        "17 games in 2007. 14 for 21 now because season is current. \n",
        "\n",
        "[1,2,3,4,5,6,7,8,9,10,11,12,13,14,15,16] 07,08,09,10,11,12\n",
        "\n",
        "\n",
        "[1,2,3,4,5,6,7,9,10,11,12,13,14,15,16] 13,14\n",
        "\n",
        "\n",
        "1,2,3,4,5,6,7,9,10,11,12,13,14,15,16,17] 15,16,17,18,19,20,21"
      ]
    },
    {
      "cell_type": "code",
      "execution_count": null,
      "metadata": {
        "id": "aFxvmaIsnWYJ"
      },
      "outputs": [],
      "source": [
        "import pandas as pd\n",
        "import numpy as np\n",
        "import requests\n",
        "import numpy as np\n",
        "pd.set_option('display.max_rows',2000)\n",
        "\n",
        "#Input League Data\n",
        "league_id=441871\n",
        "seasons=list(range(2007,2022))\n",
        "espn_s2=\"AEAycjy2stc8WJHoYThLkYwCRWA3SfH0BQVqpVZgQht%2BQ1jpaPoHZKhRX%2F8gXAcS2uL0NmpBLg49eE90Ss%2B178NmVgNAq2pniAUvPYaUxTkdZ2I18iFtYlgnP%2BqS%2BNTMvrywMdPscNnyOgZdklNmIKwUerecVrDiCENmj46B3%2B0keJGh1MJhHCRrN2VHsSVLnAlGTt6WKglqyBRJ7TDiOz2lJeLHfsFenQgi%2BzL7%2FVBnWCWMB3rUil5pxfgUUZKMMKji1ZyNioWbtPZze%2Fhu8If7Vn542zNqMdF%2FuL4vwSImuw%3D%3D\"\n",
        "swid=\"{6F956B16-C8CA-4EEA-8B4E-570F9C2B55BD}\"\n",
        "espn_data=pd.DataFrame()\n",
        "dfs=['df'+str(i) for i in seasons]\n",
        "\n",
        "for season,df in zip(seasons,dfs):\n",
        "\n",
        "  #team count\n",
        "  if season > 2012 and season < 2015 :\n",
        "    team_count = 15\n",
        "  \n",
        "  else:\n",
        "    team_count = 16\n",
        " \n",
        "  #url for the request\n",
        "  if season > 2020:\n",
        "    url = 'https://fantasy.espn.com/apis/v3/games/ffl/seasons/' + \\\n",
        "          str(season) + '/segments/0/leagues/' + str(league_id)\n",
        "\n",
        "    #API request to get team names\n",
        "    r = requests.get(url,\"view=mTeam\",cookies={\"swid\": swid,  \"espn_s2\": espn_s2})\n",
        "    e =r.json()\n",
        "\n",
        "    #API request to get matchup data  \n",
        "    r = requests.get(url,\"view=mMatchup\",cookies={\"swid\": swid,  \"espn_s2\": espn_s2})\n",
        "    d =r.json()\n",
        "\n",
        "  else:\n",
        "    url = \"https://fantasy.espn.com/apis/v3/games/ffl/leagueHistory/\" + \\\n",
        "          str(league_id) + \"?seasonId=\" + str(season)\n",
        "  \n",
        "\n",
        "    r = requests.get(url,\"view=mTeam\",cookies={\"swid\": swid,  \"espn_s2\": espn_s2})\n",
        "    e =r.json()[0]\n",
        "\n",
        "    #API request to get matchup data  \n",
        "    r = requests.get(url,\"view=mMatchup\",cookies={\"swid\": swid,  \"espn_s2\": espn_s2})\n",
        "    d =r.json()[0]\n",
        "  \n",
        "\n",
        "  #Get Team Names \n",
        "  if season < 2013:\n",
        "    teamnames=[e['teams'][i]['location']+' '+e['teams'][i]['nickname'] for i in range(team_count)]\n",
        "    tmnames= pd.Series(data=teamnames,index=[1,2,3,4,5,6,7,8,9,10,11,12,13,14,15,16])\n",
        "\n",
        "  elif season > 2014:\n",
        "    teamnames=[e['teams'][i]['location']+' '+e['teams'][i]['nickname'] for i in range(team_count)]\n",
        "    tmnames= pd.Series(data=teamnames,index=[1,2,3,4,5,6,7,9,10,11,12,13,14,15,16,17])\n",
        "    \n",
        "  else:\n",
        "    teamnames=[e['teams'][i]['location']+' '+e['teams'][i]['nickname'] for i in range(team_count)]\n",
        "    tmnames= pd.Series(data=teamnames,index=[1,2,3,4,5,6,7,9,10,11,12,13,14,15,16])\n",
        "\n",
        "\n",
        "  #Create Points Dataframe\n",
        "  #Number of Weeks \n",
        "  if (season < 2008) or (season ==2021):\n",
        "    week=17\n",
        "    \n",
        "  else: \n",
        "    week=16\n",
        "\n",
        "  \n",
        "  for each in d['schedule']:\n",
        "      if 'away' not in each.keys():\n",
        "          each.update({'away': {'teamId':\"None\", 'totalPoints':0}})\n",
        "\n",
        "  gamecount = 8*week +1\n",
        "  \n",
        "  df = pd.DataFrame()\n",
        "  df['Season'] = [season for i in range(gamecount)]\n",
        "  df['Week'] = [d['schedule'][i]['matchupPeriodId']for i in range(gamecount)]\n",
        "  df['HomeTeam'] =[tmnames[d['schedule'][i]['home']['teamId']] for i in range(gamecount)]\n",
        "  df['Opponent'] = [tmnames[d['schedule'][i]['away']['teamId']] if d['schedule'][i]['away']['teamId'] != \"None\" else '' for i in range(gamecount)]\n",
        "  df['PF'] = [d['schedule'][i]['home']['totalPoints'] for i in range(gamecount)]\n",
        "  df['PA'] = [d['schedule'][i]['away']['totalPoints'] for i in range(gamecount)]\n",
        " \n",
        "  \n",
        "  espn_data=espn_data.append(df).reset_index(drop=True)\n",
        "\n",
        "\n"
      ]
    },
    {
      "cell_type": "code",
      "execution_count": null,
      "metadata": {
        "id": "hLzOEBLPNwCl"
      },
      "outputs": [],
      "source": [
        "tm=espn_data['HomeTeam'].unique()\n"
      ]
    },
    {
      "cell_type": "code",
      "execution_count": null,
      "metadata": {
        "id": "1_J0ISXV6TRo",
        "colab": {
          "base_uri": "https://localhost:8080/"
        },
        "outputId": "f01681c9-7db1-4582-d8ac-94feacc60f1e"
      },
      "outputs": [
        {
          "output_type": "execute_result",
          "data": {
            "text/plain": [
              "array([\"Arby's Big Montana\", 'Mexico City Hoodlums', 'Pigpile Pillagers',\n",
              "       'New York Ball Droppers', 'Root Beer Tapper', 'Costa Mesa Rasta',\n",
              "       'Granite Bay Gangbangers', 'Team Mclovin', 'Sandpoint Seagulls',\n",
              "       'Bavarian Wolfpack', 'Team ward', 'Vegas High Rollers',\n",
              "       'North Dakota SlayRide', 'Sideline Shakedown',\n",
              "       \"Flash's Furious Luchadores\"], dtype=object)"
            ]
          },
          "metadata": {},
          "execution_count": 10
        }
      ],
      "source": [
        "tm[0:15]"
      ]
    },
    {
      "cell_type": "code",
      "source": [
        ""
      ],
      "metadata": {
        "id": "tmD1INQ5dXDk"
      },
      "execution_count": null,
      "outputs": []
    }
  ],
  "metadata": {
    "colab": {
      "name": "AllTime H2H.ipynb",
      "provenance": [],
      "authorship_tag": "ABX9TyOwnRF6gDf5DlXMSN7rSsr2",
      "include_colab_link": true
    },
    "kernelspec": {
      "display_name": "Python 3",
      "name": "python3"
    },
    "language_info": {
      "name": "python"
    }
  },
  "nbformat": 4,
  "nbformat_minor": 0
}